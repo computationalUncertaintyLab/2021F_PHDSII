{
 "cells": [
  {
   "cell_type": "markdown",
   "metadata": {},
   "source": [
    "# Week11\n",
    "\n",
    "Up until this point in lecture we discussed how to model the conditional distribution of a random variable with a normal distribution---linear regression. \n",
    "Linear regression can be used to understand how a set of covariates $(x_{1},x_{2},\\cdots,x_{p})$ relate linearly to a random variable $Y$. \n",
    "We assume that $Y$ is a normally distributed variable.\n",
    "Because we assume $Y$ can be modeled as a normally distributed random variable we expect that our $Y$ data is some set of negative, positive decimal data (i.e. -2.12, 3.14, 78.2, etc).\n",
    "\n",
    "But what if our $Y$ data is instead a set of $0$s and $1$s that represent the absence and presence of some phenomena? Our plan is to explore logistic regression.\n",
    "\n",
    "The goal of logistic regression is to model a set of $Y$ data with binary responses (Yes/No), (Presence/Absence)."
   ]
  },
  {
   "cell_type": "markdown",
   "metadata": {},
   "source": [
    "## Data setup\n",
    "\n",
    "Suppose we have a dataset of $p$ covariates and a single target variable $y$.\n",
    "Then our dataset can be represented as \n",
    "\n",
    "\\begin{align}\n",
    "\\mathcal{D} = [  (x^{1}_{1},x^{2}_{1},\\cdots,x^{p}_{1},y^{1}),(x^{1}_{2},x^{2}_{2},\\cdots,x^{p}_{2},y^{2}), \\cdots, (x^{1}_{N},x^{2}_{N},\\cdots,x^{p}_{N},y^{N}) ]  \n",
    "\\end{align}\n",
    "\n",
    "where $x_{a}^{b}$ corresponds to the $a$th covariate from the $b$th datapoint.\n",
    "Note that our setup above is identical to our setup for multivairate linear regression (MLR). \n",
    "\n",
    "The difference between MLR and logistic regression (LR) is that in LR each $y_{i}$ is either the value 0 or 1. "
   ]
  },
  {
   "cell_type": "markdown",
   "metadata": {},
   "source": [
    "## A model for $Y$\n",
    "\n",
    "Lets start to model $Y$ by first searching or a random variable that generates the value 0 or 1.\n",
    "We know that a Bernoulli distributed random variable with parameter $\\theta$ will generate the value 1 with probability $\\theta$ and the value 0 with probability $1-\\theta$. \n",
    "\n",
    "That is, if $Y$ is a Bernoulli distributed random variable then \n",
    "\n",
    "\\begin{align}\n",
    "    Y &\\sim \\text{Bern}(\\theta) \\\\ \n",
    "    p(Y=1) &= \\theta \\\\ \n",
    "    p(Y=0) &= 1 - \\theta\\\\\n",
    "    p(Y=y) &= \\theta^{y}(1-\\theta)^{1-y}\n",
    "\\end{align}\n",
    "\n",
    "The expected value of $Y$ is $\\mathbb{E}(Y) = \\theta$ and the variance of $Y$ is $\\mathbb{V}(Y) = \\theta(1-\\theta)$.\n",
    "\n",
    "When we explore MLR, we started by assuming our $Y$ had a normal distriubution $\\mathcal{N}(\\mu,\\sigma^{2})$ and then modified $\\mu$ so that it was a function that depended on parameters $\\beta$ and $x$ data.\n",
    "We chose to modify $\\mu$ because the expected value of $Y$ was $\\mu$. \n",
    "\n",
    "Let us take the same approach with our $Y$ above and model the conditional distribtuion of $Y$ given parameters $\\beta$ and $x$ data as \n",
    "\n",
    "\\begin{align}\n",
    "    Y_{i}|\\beta_{0}, \\beta_{1},x_{i} \\sim \\text{Bern}(\\theta(x))\\\\\n",
    "    \\theta(x) = \\beta_{0} + \\beta_{1} x\\\\\n",
    "\\end{align}\n",
    "\n",
    "But we have a problem. \n",
    "The parameter $\\theta$ is constrained to be a value between 0 and 1, yet the quantity $\\beta_{0} + \\beta_{1} x$ can take any value from negative to positive infinity. \n",
    "We need a way to constrain our values for $\\theta$ to be between 0 and 1. \n",
    "\n",
    "### The logistic function\n",
    "\n",
    "One method to constrain $\\theta$ to be between 0 and 1 is to use the logistic function. \n",
    "The logistic function $f$ is\n",
    "\n",
    "\\begin{align}\n",
    "    f(x) = \\frac{e^{x}}{1+e^{x}}\n",
    "\\end{align}\n",
    "\n",
    "For $x$ values that approach positive infinity the logistic function approaches the value 1. \n",
    "For $x$ values that approach negative infinity the logistic function approaches the value 0."
   ]
  },
  {
   "cell_type": "code",
   "execution_count": 8,
   "metadata": {},
   "outputs": [
    {
     "data": {
      "image/png": "[encoded data removed]",
      "text/plain": [
       "<Figure size 432x288 with 1 Axes>"
      ]
     },
     "metadata": {
      "needs_background": "light"
     },
     "output_type": "display_data"
    }
   ],
   "source": [
    "def logistic(x):\n",
    "    import numpy as np\n",
    "    e = np.exp(x)\n",
    "    return e/(1+e)\n",
    "\n",
    "fig,ax = plt.subplots()\n",
    "domain = np.linspace(-5,5,10**3)\n",
    "\n",
    "ax.plot(domain,logistic(domain))\n",
    "\n",
    "ax.set_xlabel(\"x\")\n",
    "ax.set_ylabel(\"Logistic function\")\n",
    "\n",
    "ax.axvline(0,ls=\"--\")\n",
    "ax.axhline(0.5,ls=\"--\")\n",
    "\n",
    "ax.set_yticks([0,0.25,0.50,0.75,1.0])\n",
    "\n",
    "plt.show()"
   ]
  },
  {
   "cell_type": "markdown",
   "metadata": {},
   "source": [
    "Because logistic function maps values from negative infinity to positive infintiy to numbers between 0 and 1, we can use this function to give us valid $\\theta$ values. \n",
    "\n",
    "\\begin{align}\n",
    "    Y_{i}|\\beta_{0}, \\beta_{1},x_{i} \\sim \\text{Bern}(\\theta(x))\\\\\n",
    "    \\theta(x) = L(\\beta_{0} + \\beta_{1} x)\\\\\n",
    "\\end{align}\n",
    "\n",
    "where $L$ is the logistic functon. In other words,\n",
    "\n",
    "\\begin{align}\n",
    "    Y_{i}|\\beta_{0}, \\beta_{1},x_{i} \\sim \\text{Bern}(\\theta(x))\\\\\n",
    "    \\theta(x) = \\frac{e^{\\beta_{0} + \\beta_{1} x}}{1+e^{\\beta_{0} + \\beta_{1} x}}\\\\\n",
    "\\end{align}\n",
    "\n"
   ]
  },
  {
   "cell_type": "markdown",
   "metadata": {},
   "source": [
    "## A way to write logistic regression that looks more familiar \n",
    "\n",
    "At times it can be convienant to rewrite our logistic regression model above to look more similar to the more familar multivariate linear regression. For multivariate linear regression, the expedcted value of our target variable was equal to $\\beta_{0} + \\beta_{1} x$. \n",
    "\n",
    "or logistic regression our expected value is \n",
    "\n",
    "\\begin{align}\n",
    "    \\mathbb{E}(Y) = \\frac{e^{\\beta_{0} + \\beta_{1} x}}{1+e^{\\beta_{0} + \\beta_{1} x}}\n",
    "\\end{align}\n",
    "\n",
    "Let's rearrange the above equation to isolate $\\beta_{0} + \\beta_{1} x$. \n",
    "\n",
    "\\begin{align}\n",
    "    \\theta = \\mathbb{E}(Y) &= \\frac{e^{\\beta_{0} + \\beta_{1} x}}{1+e^{\\beta_{0} + \\beta_{1} x}} \\\\ \n",
    "    1+e^{\\beta_{0} + \\beta_{1} x}(\\theta) &= e^{\\beta_{0} + \\beta_{1} x} \\\\ \n",
    "    \\theta + \\theta e^{\\beta_{0} + \\beta_{1} x} &= e^{\\beta_{0} + \\beta_{1} x} \\\\ \n",
    "    \\theta  &= e^{\\beta_{0} + \\beta_{1} x} - \\theta e^{\\beta_{0} + \\beta_{1} x} \\\\ \n",
    "    \\theta  &= e^{\\beta_{0} + \\beta_{1} x}(1-\\theta) \\\\ \n",
    "    \\frac{\\theta}{1-\\theta}  &= e^{\\beta_{0} + \\beta_{1} x} \\\\ \n",
    "    \\log \\left(\\frac{\\theta}{1-\\theta}\\right) &= \\beta_{0} + \\beta_{1} x\n",
    "\\end{align}\n",
    "\n",
    "The ratio $\\frac{\\theta}{1-\\theta}$ is called the **odds** and so the quantity  $\\log \\left(\\frac{\\theta}{1-\\theta}\\right)$ is called the **log odds**. "
   ]
  },
  {
   "cell_type": "markdown",
   "metadata": {},
   "source": [
    "## A 1-unit change in $X$\n",
    "\n",
    "Just like in MLR, we can look at how \n"
   ]
  },
  {
   "cell_type": "markdown",
   "metadata": {},
   "source": []
  },
  {
   "cell_type": "markdown",
   "metadata": {},
   "source": []
  },
  {
   "cell_type": "markdown",
   "metadata": {},
   "source": []
  },
  {
   "cell_type": "markdown",
   "metadata": {},
   "source": []
  },
  {
   "cell_type": "markdown",
   "metadata": {},
   "source": []
  },
  {
   "cell_type": "markdown",
   "metadata": {},
   "source": []
  },
  {
   "cell_type": "markdown",
   "metadata": {},
   "source": []
  },
  {
   "cell_type": "markdown",
   "metadata": {},
   "source": []
  },
  {
   "cell_type": "markdown",
   "metadata": {},
   "source": []
  }
 ],
 "metadata": {
  "kernelspec": {
   "display_name": "Python 3",
   "language": "python",
   "name": "python3"
  },
  "language_info": {
   "codemirror_mode": {
    "name": "ipython",
    "version": 3
   },
   "file_extension": ".py",
   "mimetype": "text/x-python",
   "name": "python",
   "nbconvert_exporter": "python",
   "pygments_lexer": "ipython3",
   "version": "3.9.5"
  }
 },
 "nbformat": 4,
 "nbformat_minor": 4
}
