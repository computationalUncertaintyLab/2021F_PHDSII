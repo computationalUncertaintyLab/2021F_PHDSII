{
 "cells": [
  {
   "cell_type": "markdown",
   "metadata": {},
   "source": [
    "## Week06\n",
    "\n",
    "Goals:\n",
    "- Write down the variance for $\\hat \\beta$\n",
    "- Write down the distribution for $\\hat \\beta$\n",
    "- Use the $\\hat \\beta$ distribution to compute confidence intervals\n",
    "- Use our estimates of $\\beta$ to perform hypothesis tests"
   ]
  },
  {
   "cell_type": "markdown",
   "metadata": {},
   "source": [
    "### Variance, $\\mathcal{I}^{-1}$, for $\\hat \\beta_{0}$ and $\\hat \\beta_{1}$\n",
    "\n",
    "We found that given a dataset of $N$ pairs of points ($x,y$) the MLE for $\\hat \\beta_{1}$ was \n",
    "\n",
    "\\begin{align}\n",
    "    \\hat \\beta_{1} = \\frac{\\sum_{i=1}^{N} (x_{i} - \\bar x) (y_{i} - \\bar y)}{\\sum_{i=1}^{N} (x_{i} - \\bar x)^{2}  }\n",
    "\\end{align}\n",
    "\n",
    "To compute the variance for \\hat \\beta_{1} we need to consider repeated sampels of our datset from random variables ($X_{i},Y_{i}$).\n",
    "If we shift our focus from a fixed dataset to random variables that can generate our fixed data then the MLE is a funciton of random variables.\n",
    "\n",
    "\\begin{align}\n",
    "    \\hat \\beta_{1} = \\frac{\\sum_{i=1}^{N} (X_{i} - \\bar X) (Y_{i} - \\bar Y)}{\\sum_{i=1}^{N} (X_{i} - \\bar X)^{2}  }\n",
    "\\end{align}\n",
    "\n",
    "Above we use capital $X$ and capital $Y$ to represent random variables. \n",
    "To be clear, $\\text{Var}(y_{i}) = 0$ and $\\text{Var}(Y_{i}) \\ge 0$.\n",
    "\n",
    "#### Variance of $\\hat \\beta_{1}$\n",
    "\n",
    "Before we compute the variance of $\\hat \\beta_{1}$ we can simplify the numerator of the MLE\n",
    "\\begin{align}\n",
    "    &\\sum_{i=1}^{N} (X_{i} - \\bar X) (Y_{i} - \\bar Y) \\\\ \n",
    "    &\\sum_{i=1}^{N} (X_{i} - \\bar X) Y_{i} -  (X_{i} - \\bar X) \\bar Y \\\\ \n",
    "    &\\sum_{i=1}^{N} (X_{i} - \\bar X) Y_{i} - \\sum_{i=1}^{N} (X_{i} - \\bar X) \\bar Y \\\\\n",
    "    &\\sum_{i=1}^{N} (X_{i} - \\bar X) Y_{i} -  \\bar Y \\sum_{i=1}^{N} (X_{i} - \\bar X) & \\bar Y\\text{ is a constant } \\\\\n",
    "    &\\sum_{i=1}^{N} (X_{i} - \\bar X) Y_{i} & \\text{the second sum is zero}\n",
    "\\end{align}\n",
    "\n",
    "Our MLE for $\\hat \\beta_{1}$ is now simpler\n",
    "\n",
    "\\begin{align}\n",
    "    \\hat \\beta_{1} = \\frac{\\sum_{i=1}^{N} (X_{i} - \\bar X) Y_{i}}{\\sum_{i=1}^{N} (X_{i} - \\bar X)^{2}  }\n",
    "\\end{align}\n",
    "\n",
    "We can think of the above as \n",
    "\n",
    "\\begin{align}\n",
    "    \\hat \\beta_{1} = \\sum_{i=1}^{N} k_{i}Y_{i}\n",
    "\\end{align}\n",
    "\n",
    "where we now consider\n",
    "\n",
    "\\begin{align}\n",
    "    k_{i} = \\frac{(X_{i} - \\bar X)}{\\sum_{i=1}^{N} (X_{i} - \\bar X)^{2} }\n",
    "\\end{align}\n",
    "\n",
    "a constant. That is, we assume we are given $x_{i}$ values\n",
    "\n",
    "\\begin{align}\n",
    "    k_{i} = \\frac{(x_{i} - \\bar x)}{\\sum_{i=1}^{N} (x_{i} - \\bar x)^{2} }\n",
    "\\end{align}\n",
    "\n",
    "Our goal is to find the variance of $\\hat \\beta_{1}$ or \n",
    "\\begin{align}\n",
    "    Var \\left(\\hat \\beta_{1}\\right) = Var \\left( \\sum_{i=1}^{N} k_{i}Y_{i} \\right)\n",
    "\\end{align}\n",
    "\n",
    "#### The variance of the sum (or differnece) of random variables\n",
    "We will need a fact about the variance of the sum of independent random variables.\n",
    "\n",
    "For two independent random variables $X$ and $Y$ and constants $a$ and $b$ the following is true\n",
    "\n",
    "\\begin{align}\n",
    "    Var(aX+bY) = a^{2}Var(X) + b^{2}Var(Y)\n",
    "\\end{align}.\n",
    "\n",
    "This also means that \n",
    "\n",
    "\\begin{align}\n",
    "    Var(X-Y) = Var((1)X + (-1)Y) =1^{2} Var(X) + (-1)^{2} Var(Y) = Var(X) +  Var(Y) \n",
    "\\end{align}.\n",
    "\n",
    "\n",
    "The same relationship holds for $N$ random variables $Y_{1},Y_{2},\\cdots,Y_{N}$ which are all independent from one another and for constants $k_{1},k_{2},\\cdots,k_{N}$\n",
    "\n",
    "\n",
    "\\begin{align}\n",
    "    Var(a_{1}Y_{1}+a_{2}Y_{2}+\\cdots + a_{N}Y_{N}) = Var\\left(\\sum_{i=1}^{N}a_{i}Y_{i}\\right) = \\sum_{i=1}^{N} a_{i}^{2} Var\\left(Y_{i}\\right)  \n",
    "\\end{align}.\n",
    "\n",
    "This mean then \n",
    "\n",
    "\\begin{align}\n",
    "    Var \\left(\\hat \\beta_{1}\\right) &= Var \\left( \\sum_{i=1}^{N} k_{i}Y_{i} \\right) \\\\ \n",
    "    &= \\sum_{i=1}^{N} k^{2}_{i} Var(Y_{i})\n",
    "\\end{align}\n",
    "\n",
    "However, our linear regression model states that every $Y_{i}$ has the following same distribution\n",
    "\\begin{align}\n",
    "    Y_{i} | x_{i} \\sim \\mathcal{N}\\left( \\beta_{0} + \\beta_{1}x_{i}, \\sigma^{2} \\right)\n",
    "\\end{align}\n",
    "\n",
    "That is, the variance for each $Y_{i}$ is $\\sigma^{2}$.\n",
    "Then the above equation simplifies to \n",
    "\n",
    "\\begin{align}\n",
    "    Var \\left(\\hat \\beta_{1}\\right) &= \\sum_{i=1}^{N} k^{2}_{i} \\sigma^{2}\\\\\n",
    "    &=\\sigma^{2} \\sum_{i=1}^{N} k^{2}_{i} \\\\\n",
    "\\end{align}\n",
    "\n",
    "Our final step is to figure out what $\\sum_{i=1}^{N} k^{2}_{i}$ equals. \n",
    "\n",
    "\\begin{align}\n",
    "    k_{i} = \\frac{(x_{i} - \\bar x)}{\\sum_{i=1}^{N} (x_{i} - \\bar x)^{2} }\n",
    "\\end{align}\n",
    "\n",
    "and if we square $k_{i}$ we are left with\n",
    "\n",
    "\\begin{align}\n",
    "    k_{i}^{2} = \\frac{ (x_{i} - \\bar x)^{2} }{\\left(\\sum_{i=1}^{N} (x_{i} - \\bar x)^{2}\\right)^{2} }\n",
    "\\end{align}\n",
    "\n",
    "Summing up the $k_{i}^{2}$s we find \n",
    "\n",
    "\\begin{align}\n",
    "    \\sum_{i=1}^{N} k_{i}^{2} &= \\sum_{i=1}^{N} \\frac{ (x_{i} - \\bar x)^{2} }{\\left(\\sum_{i=1}^{N} (x_{i} - \\bar x)^{2}\\right)^{2} }\\\\\n",
    "     &=\\frac{1}{\\left(\\sum_{i=1}^{N} (x_{i} - \\bar x)^{2}\\right)^{2} } \\sum_{i=1}^{N} (x_{i} - \\bar x)^{2} \\\\\n",
    "     &= \\frac{1}{\\sum_{i=1}^{N} (x_{i} - \\bar x)^{2} }\n",
    "\\end{align}\n",
    "\n",
    "#### Variance of $\\hat \\beta_{1}$\n",
    "The final result is the variance for $\\hat \\beta_{1}$\n",
    "\\begin{align}\n",
    "    Var(\\hat \\beta_{1}) = \\sigma^{2} \\frac{1}{\\sum_{i=1}^{N} (x_{i} - \\bar x)^{2} }\n",
    "\\end{align}"
   ]
  },
  {
   "cell_type": "markdown",
   "metadata": {},
   "source": [
    "#### Variance of $\\hat \\beta_{0}$\n",
    "\n",
    "To compute the variance for $\\hat beta_{0}$ we can proceed the same way as we did for $\\hat \\beta_{1}$: (i) consider the random variables that generated the data, (ii) take the variance of the MLE (now a random variable), and (iii) simplify. \n",
    "\n",
    "The MLE for $\\hat \\beta_{0}$ is \n",
    "\n",
    "\\begin{align}\n",
    "    \\hat \\beta_{0} = \\bar Y - \\hat \\beta_{1} \\bar x\n",
    "\\end{align}\n",
    "\n",
    "The variance is then \n",
    "\n",
    "\\begin{align}\n",
    "    Var (\\hat \\beta_{0}) &= Var(\\bar Y) + \\bar{x}^{2} Var(\\hat \\beta_{1}) &\\text{ } \\bar x \\text{ is a constant} \\\\ \n",
    "    &= Var\\left(\\frac{\\sum_{i=1}^{N}Y_{i}}{N}\\right) + \\bar{x}^{2} Var(\\hat \\beta_{1}) &\\text{ }  \\text{ Definition of sample average} \\\\ \n",
    "    &= \\frac{1}{N^{2}}\\sum_{i=1}^{N}Var(Y_{i}) + \\bar{x}^{2} Var(\\hat \\beta_{1}) & \\frac{1}{N}  \\text{is a constant} \\\\ \n",
    "    &= \\frac{1}{N^{2}}\\sum_{i=1}^{N}\\sigma^{2} + \\bar{x}^{2} Var(\\hat \\beta_{1}) & \\text{The variance of every } Y_{i} \\text{ is } \\sigma^{2} \\\\ \n",
    "    &= \\frac{1}{N^{2}}N\\sigma^{2} + \\bar{x}^{2} Var(\\hat \\beta_{1})  \\\\\n",
    "    &= \\frac{1}{N^{2}}N\\sigma^{2} + \\bar{x}^{2} \\sigma^{2} \\frac{1}{\\sum_{i=1}^{N} (x_{i} - \\bar x)^{2} }  \\\\\n",
    "    &= \\sigma^{2}\\frac{1}{N} +  \\sigma^{2} \\frac{\\bar{x}^{2}}{\\sum_{i=1}^{N} (x_{i} - \\bar x)^{2} }  \\\\\n",
    "    &= \\sigma^{2}\\left(\\frac{1}{N}  + \\frac{\\bar{x}^{2}}{\\sum_{i=1}^{N} (x_{i} - \\bar x)^{2} }\\right)  \\\\\n",
    "\\end{align}\n",
    "\n"
   ]
  },
  {
   "cell_type": "markdown",
   "metadata": {},
   "source": [
    "### The distribution for $\\hat \\beta$\n",
    "\n",
    "We know that as our dataset grows that the MLE for $\\hat \\beta_{0}$ and for $\\hat \\beta_{1}$ approaches a normal distribution centered at our true parameter values with mean parameter equal to the correpsonding MLEs and variance parameter equal to the corresponding variances we found above.\n",
    "\n",
    "\\begin{align}\n",
    "    \\hat \\beta_{0} \\sim \\mathcal{N}\\left( \\bar Y - \\hat \\beta_{1}\\bar x , \\sigma^{2}\\left(\\frac{1}{N}  + \\frac{\\bar{x}^{2}}{\\sum_{i=1}^{N} (x_{i} - \\bar x)^{2} }\\right)  \\right)\n",
    "\\end{align}\n",
    "\n",
    "\\begin{align}\n",
    "    \\hat \\beta_{1} \\sim \\mathcal{N}\\left( \\sum_{i=1}^{N} \\frac{(x_{i}-\\bar x)y_{i} }{ (x_{i}-\\bar x)^{2} }, \\sigma^{2} \\frac{1}{\\sum_{i=1}^{N} (x_{i} - \\bar x)^{2} } \\right)   \n",
    "\\end{align}\n",
    "\n"
   ]
  },
  {
   "cell_type": "markdown",
   "metadata": {},
   "source": [
    "### Computing confidence intervals for $\\hat \\beta$"
   ]
  },
  {
   "cell_type": "markdown",
   "metadata": {},
   "source": [
    "The equation to compute a $1-\\alpha$ confidence interval for a normally distributed random variable with mean equal to $\\mu$  and variance equal to $\\sigma^{2}$ is \n",
    "\n",
    "\\begin{align}\n",
    "    \\text{CI}_{1-\\alpha} = ( \\mu - z_{1-\\alpha/2}\\sigma,\\mu + z_{\\alpha/2}\\sigma  )\n",
    "\\end{align}\n",
    "\n",
    "where $z_{\\alpha/2}$ is the $\\alpha/2$ quantile value from a random variable $Z\\sim\\mathcal{N(0,1)}$. \n",
    "The $p$ quantile value $q$ is the value $q$ such that $P(Z<p) = q$\n",
    "\n",
    "\n",
    "| $\\alpha$    | $z_{1-\\alpha/2}$ |\n",
    "| ----------- | -----------------|\n",
    "| 0.01        | 2.58             |\n",
    "| 0.05        | 1.96             |\n",
    "| 0.10        | 1.64             |\n",
    "| 0.20        | 1.28             |\n",
    "\n",
    "\n",
    "### Why this formula works (Shifting and scaling Normal distributions)\n",
    "\n",
    "For a random variable $X\\sim \\mathcal{N}\\left(\\mu, \\sigma^{2}\\right)$\n",
    "We can derive the distribution of a second random variable $Y = X + c$ where $c$ is a constant. \n",
    "Adding or subtracting a constant from a normally distributed random variable,X,---shifting---creates a new random variable $Y$ that is normally distributed \n",
    "\n",
    "\\begin{align}\n",
    "    X &\\sim \\mathcal{N}\\left(\\mu,\\sigma^{2}\\right) \\\\ \n",
    "    \\text{if  }\n",
    "    Y &= X + c\\\\\n",
    "    \\text{then  }\n",
    "    Y &\\sim \\mathcal{N}\\left(\\mu+c,\\sigma^{2}\\right)\n",
    "\\end{align}\n",
    "\n",
    "Multiplying a random variable $X$ by a constant $c$---scaling---creates a new random variable $Y$ that is normally distributed\n",
    "\n",
    "\\begin{align}\n",
    "    X &\\sim \\mathcal{N}\\left(\\mu,\\sigma^{2}\\right) \\\\ \n",
    "    \\text{if  }\n",
    "    Y &= cX\\\\\n",
    "    \\text{then  }\n",
    "    Y &\\sim \\mathcal{N}\\left(\\mu,c^{2}\\sigma^{2}\\right)\n",
    "\\end{align}\n",
    "\n",
    "\n",
    "### From a $N(0,1)$ to any $N(\\mu,\\sigma^{2})$\n",
    "  \n",
    "Let $Z \\sim \\mathcal{N}\\left(0,1\\right)$. \n",
    "Then we can transform $Z$ into $Y$, a $\\mathcal{N}\\left(0,\\sigma^{2}\\right)$, by mutliplying by the constant $\\sigma$\n",
    "\n",
    "\\begin{align}\n",
    "  \\text{if  } Y = \\sigma Z \\text{ then } Y\\sim \\mathcal{N}\\left(0,\\sigma^{2}\\times 1\\right)\\\\\n",
    "  Y \\sim \\mathcal{N}\\left(0,\\sigma^{2}\\right)\n",
    "\\end{align}\n",
    "\n",
    "Then we can create a normal distribution, $X$, centered at $\\mu$ by shifting $Y$ by the constant $\\mu$\n",
    "\n",
    "\\begin{align}\n",
    "  \\text{if  } X = Y+\\mu \\text{ then } Y\\sim \\mathcal{N}\\left(\\mu,\\sigma^{2}\\right)\n",
    "\\end{align}\n",
    "\n",
    "\n",
    "We transformed $Z$, a $\\mathcal{N}(0,1)$ random variable, into $X$, a $\\mathcal{N}(\\mu,\\sigma^{2})$ random variable by first multiplying $Z$ by $\\sigma$ and then adding $\\mu$ \n",
    "\n",
    "\\begin{align}\n",
    "    X = \\mu + \\sigma Z\n",
    "\\end{align}\n",
    "\n",
    "This also means that any $X \\sim \\mathcal{N}\\left(\\mu,\\sigma^{2}\\right)$ can be converted to a $Z\\sim \\mathcal{N}(0,1)$ by running the above process in reverse\n",
    "\n",
    "\\begin{align}\n",
    "    Z = \\frac{X - \\mu}{\\sigma}\n",
    "\\end{align}\n",
    "\n",
    "### Confidence intervals\n",
    "\n",
    "We will compute a $1-\\alpha$ confidence interval for a random variable $X$ by computing two quantiles values: (i) the quantile value $l$ such that $P(X<l) = \\alpha/2$ and the quantile value $u$ such that $P(X<u) = 1-\\alpha/2$. \n",
    "\n",
    "We can leverage the above transformation to make computing these two quantiles easier **as long as our random variable is normally distributed**. The idea is to compute the quantile values for $Z$ and transform those values so that they are confidence intervals for an arbitrary $\\mathcal{N}(\\mu,\\sigma^{2})$ random variable.\n",
    "\n",
    "For the lower quantile value:\n",
    "\\begin{align}\n",
    "    P(Z < l) &= \\alpha/2\\\\\n",
    "    P\\left(\\frac{X-\\mu}{\\sigma} < l\\right) &= \\alpha/2\\\\\n",
    "    P(X-\\mu < l\\sigma) &= \\alpha/2\\\\\n",
    "    P(X < \\mu + l\\sigma) &= \\alpha/2\\\\\n",
    "\\end{align}\n",
    "\n",
    "For the upper quantile value\n",
    "\\begin{align}\n",
    "    P(Z < u) &= 1 - \\alpha/2\\\\\n",
    "    P\\left(\\frac{X-\\mu}{\\sigma} < u\\right) &= 1-\\alpha/2\\\\\n",
    "    P(X-\\mu < u\\sigma) &= 1-\\alpha/2\\\\\n",
    "    P(X < \\mu + u\\sigma) &= 1-\\alpha/2\\\\\n",
    "\\end{align}\n",
    "\n",
    "One final step is recognizing that because the Normal distribution is symmetric the quantile value $l$ and $u$ are the same value but opposite sign."
   ]
  },
  {
   "cell_type": "code",
   "execution_count": 22,
   "metadata": {},
   "outputs": [
    {
     "data": {
      "text/plain": [
       "<matplotlib.legend.Legend at 0x1b60eb310>"
      ]
     },
     "execution_count": 22,
     "metadata": {},
     "output_type": "execute_result"
    },
    {
     "data": {
      "image/png": "[encoded data removed]",
      "text/plain": [
       "<Figure size 432x288 with 1 Axes>"
      ]
     },
     "metadata": {
      "needs_background": "light"
     },
     "output_type": "display_data"
    }
   ],
   "source": [
    "import scipy.stats\n",
    "\n",
    "dom = np.linspace(-3,3,10**3)\n",
    "\n",
    "normal = scipy.stats.norm(0,1)\n",
    "\n",
    "fig,ax = plt.subplots()\n",
    "ax.plot( dom,normal.pdf(dom) )\n",
    "\n",
    "alpha = 0.05\n",
    "l = normal.ppf(alpha/2)\n",
    "u = normal.ppf(1-alpha/2)\n",
    "\n",
    "ax.axvline(l,color=\"red\",linestyle=\":\",label=\"l=-1.96\")\n",
    "ax.axvline(u,color=\"red\",linestyle=\"--\",label=\"u=1.96\")\n",
    "\n",
    "ax.text( 0.50,0.70,r\"P(Z<l)=$\\alpha/2$  \",transform=ax.transAxes,ha=\"center\",va=\"top\",fontsize=12  )\n",
    "ax.text( 0.50,0.60,r\"P(Z<u)=$1-\\alpha/2$  \",transform=ax.transAxes,ha=\"center\",va=\"top\",fontsize=12  )\n",
    "\n",
    "ax.legend()"
   ]
  },
  {
   "cell_type": "markdown",
   "metadata": {},
   "source": [
    "This means that for a normal distribution $u = -l$, and so \n",
    "\n",
    "\\begin{align}\n",
    "    P(X < \\mu + l\\sigma) &= \\alpha/2\\\\\n",
    "    P(X < \\mu + u\\sigma) &= 1-\\alpha/2\\\\\n",
    "\\end{align}\n",
    "\n",
    "becomes\n",
    "\\begin{align}\n",
    "    P(X < \\mu - u\\sigma) &= \\alpha/2\\\\\n",
    "    P(X < \\mu + u\\sigma) &= 1-\\alpha/2\\\\\n",
    "\\end{align}\n",
    "\n",
    "or\n",
    "\n",
    "\\begin{align}\n",
    "    P(\\mu - u\\sigma < X < \\mu + u\\sigma ) &= 1 - \\alpha/2 - \\alpha/2 = 1 - \\alpha\\\\\n",
    "\\end{align}\n"
   ]
  },
  {
   "cell_type": "markdown",
   "metadata": {},
   "source": [
    "### Application to $\\hat \\beta$"
   ]
  },
  {
   "cell_type": "markdown",
   "metadata": {},
   "source": [
    "Suppose we are given the following data set:\n",
    "\n",
    "|x|y|\n",
    "|-|-|\n",
    "|1|0|\n",
    "|2|3|\n",
    "|3|6|\n",
    "|4|7|\n",
    "|5|2|\n",
    "\n",
    "\n",
    "We can compute $\\hat \\beta_{1}$ as\n",
    "\n",
    "\\begin{align}\n",
    "    \\hat \\beta_{1} &= \\frac{\\sum_{i=1}^{N}(x_{i}-\\bar x)y_{i}}{\\sum_{i=1}^{N}(x_{i}-\\bar x)^{2}}\\\\\n",
    "        &= \\frac{\\sum_{i=1}^{N}(x_{i}-3)y_{i}}{\\sum_{i=1}^{N}(x_{i}-3)^{2}}\\\\\n",
    "    &=0.8\n",
    "\\end{align}\n",
    "\n",
    "and we can compute the variance of $\\hat \\beta_{1}$ by first finding$\\hat{\\sigma}^{2}$ and then computing the MLE of the variance: \n",
    "\\begin{align}\n",
    "    Var(\\hat \\beta_{1}) = \\bar{\\sigma}^{2} \\frac{1}{\\sum_{i=1}^{N} (x_{i} - \\bar x)^{2} }\n",
    "\\end{align}\n",
    "\n",
    "From the above data you can find $\\hat{\\sigma}^{2}$ equals $6.7$ and so \n",
    "\n",
    "\\begin{align}\n",
    "    Var(\\hat \\beta_{1}) &= 5.36 \\frac{1}{\\sum_{i=1}^{N} (x_{i} - 3)^{2} } \\\\ \n",
    "                        &= 0.536 \\\\ \n",
    "\\end{align}\n",
    "\n",
    "or \n",
    "\n",
    "\\begin{align}\n",
    "    sd(\\hat \\beta_{1}) &=  \\sqrt{0.536} = 0.732 \\\\ \n",
    "\\end{align}\n",
    "\n",
    "\n",
    "Then our distribution for $\\hat \\beta_{1}$ is \n",
    "\n",
    "\\begin{align}\n",
    "    \\hat \\beta_{1} \\sim \\mathcal{N}(0.8,0.732^{2})\n",
    "\\end{align}\n",
    "\n",
    "We can compute a $95\\%$ confidence interval (or 1-0.05 confidence interval) using this information and our table of quantile values above. \n",
    "\n",
    "$CI(\\hat \\beta_{1})_{1-0.05} = (0.8-1.96*0.732, 0.8+1.96*0.732)$\n"
   ]
  },
  {
   "cell_type": "markdown",
   "metadata": {},
   "source": [
    "### Hypothesis Testing\n",
    "\n",
    "A **hypothesis** is a statement about a parameter, not about a random variable.\n",
    "Even more, we often divide our hypothesis into two parts: a null hypotheis ($H_{0}$) and an alternative hypotehsis $(H_{1})$. \n",
    "Our goal is often to collect data to prove our null hypothesis false, concluding our alternative hypothesis is more likely instead. \n",
    "\n",
    "Our simple linear regression model states \n",
    "\n",
    "\\begin{align}\n",
    "    Y_{i} \\sim \\mathcal{N}(\\beta_{0} + \\beta_{1}x_{i},\\sigma^{2})\n",
    "\\end{align}\n",
    "\n",
    "Two hypotheses of interest come to mind: a hypothesis about $\\beta_{0}$ and a separate hypothesis about $\\beta_{1}$. \n",
    "For $\\beta_{0}$ we may be interested to know whether or not this true parameter equals 0. \n",
    "Our null hypothesis could then be \n",
    "\n",
    "\\begin{align}\n",
    "    H_{0}: \\beta_{0} = 0\n",
    "\\end{align}\n",
    "\n",
    "and so our alternative hypothesis would be \n",
    "\n",
    "\\begin{align}\n",
    "    H_{1}: \\beta_{0} \\neq 0\n",
    "\\end{align}\n",
    "\n",
    "Now that we have written down our null and alternative hypotheses, the next question we may ask is \"how do we determine if the data we collected support our null or alternative hypothesis?\". \n",
    "Our startegy will to build a distribution over a test statistic assuming our null hypothesis is true and compare the distribution of test statistics assuming is the null is true to a test statistic estimated from our data, called the observed test statistic.   \n",
    "\n",
    "From maximum likelihood theory we know that \n",
    "\n",
    "\\begin{align}\n",
    "\\hat \\beta_{0} \\sim \\mathcal{N}\\left(\\beta_{0},  V(\\beta_{0})\\right)\n",
    "\\end{align}\n",
    "\n",
    "where the variance of $\\beta_{0}$ is \n",
    "\n",
    "\\begin{align}\n",
    "    V(\\beta_{0}) = \\sigma^{2}\\left( \\frac{1}{N}  + \\frac{\\bar{x}^{2}}{\\sum_{i=1}^{N} (x_{i} - \\bar x)^{2} }  \\right)\n",
    "\\end{align}\n",
    "\n",
    "Because $\\hat \\beta_{0}$ has a Normal distribution we can rewrite the above distribution for $\\hat \\beta_{0}$\n",
    "\n",
    "\\begin{align}\n",
    "    \\hat \\beta_{0} &\\sim \\mathcal{N}\\left(\\beta_{0},  V(\\beta_{0})\\right)\\\\\n",
    "    \\hat \\beta_{0} - \\beta_{0} &\\sim \\mathcal{N}\\left(0,  V(\\beta_{0})\\right) & \\text{Shift}\\\\\n",
    "    \\frac{ \\hat \\beta_{0} - \\beta_{0}}{\\sqrt{V(\\beta_{0})}} &\\sim \\mathcal{N}\\left(0,1 \\right) & \\text{Scale}\\\\\n",
    "\\end{align}\n",
    "\n",
    "#### Note:\n",
    "The quantity $\\sqrt{V(\\beta_{0})}$ is often called the standard deviation of $\\beta_{0}$ or $sd(\\beta_{0})$ and the maximum likelihood estimate of $sd(\\beta_{0})$ is often called the standard error of $\\beta_{0}$ or $se(\\beta_{0})$.\n",
    "The above says that, even though we do not know the true parameter value $\\beta_{0}$ we do know that as we collect more and more data points $\\frac{ \\hat \\beta_{0} - \\beta_{0}}{\\sqrt{V(\\beta_{0})}}$ will converge to something we do know---a normal distribution with mean 0 and variance 1 (called a standard normal distribution).\n",
    "\n",
    "Because $\\frac{ \\hat \\beta_{0} - \\beta_{0}}{\\sqrt{V(\\beta_{0})}}$ converges to a distribution we know let us use this quantity as our test statistic. \n",
    "If our Null hypothesis was true than $\\beta_{0}$ would equal 0 and so\n",
    "\n",
    "\\begin{align}\n",
    "    \\frac{ \\hat \\beta_{0} - \\beta_{0}}{\\sqrt{V(\\beta_{0})}} &\\sim \\mathcal{N}\\left(0,1 \\right)\\\\\n",
    "    \\frac{ \\hat \\beta_{0} - 0}{\\sqrt{V(\\beta_{0})}} &\\sim \\mathcal{N}\\left(0,1 \\right) & \\text{Assumed our Null hypothesis}\\\\\n",
    "    \\frac{ \\hat \\beta_{0}}{\\sqrt{V(\\beta_{0})}} &\\sim \\mathcal{N}\\left(0,1 \\right)\n",
    "\\end{align}\n",
    "\n",
    "\n"
   ]
  },
  {
   "cell_type": "markdown",
   "metadata": {},
   "source": [
    "The above says that **if** $\\beta_{0}$ was truly 0 then $\\frac{ \\hat \\beta_{0}}{\\sqrt{V(\\beta_{0})}}$ should follow a standard normal distribution.\n",
    "Even more, if we estimate  $\\frac{ \\hat \\beta_{0}}{\\sqrt{V(\\beta_{0})}}$ using our MLE estimate for $\\beta_{0}$ than if  the true $\\beta_{0}$ was zero we should expect this fraction to be close to 0. \n",
    "\n",
    "Lets approximate. \n",
    "\n",
    "\\begin{align}\n",
    "    \\sqrt{V(\\beta_{0})} &= \\sqrt{\\sigma^{2}\\left(\\frac{1}{N}  + \\frac{\\bar{x}^{2}}{\\sum_{i=1}^{N} (x_{i} - \\bar x)^{2} }\\right)} & \\text{Exact}\\\\\n",
    "    \\sqrt{ \\hat V(\\beta_{0})} &= \\sqrt{\\hat \\sigma^{2}\\left(\\frac{1}{N}  + \\frac{\\bar{x}^{2}}{\\sum_{i=1}^{N} (x_{i} - \\bar x)^{2} }\\right)} & \\text{Estimated}\n",
    "\\end{align}\n",
    "\n",
    "The expected value of $\\hat \\beta_{0}$ is $\\beta_{0}$, $E(\\hat \\beta_{0}) = \\beta_{0}$. \n",
    "However, we know our MLE for $\\beta_{0}$ will get closer to the true $\\beta_{0}$ as our data increase.\n",
    "\n",
    "\\begin{align}\n",
    "    \\hat \\beta_{0} = \\bar Y - \\hat \\beta_{1} \\bar x\n",
    "\\end{align}\n",
    "\n",
    "If the null hypothesis was true than\n",
    "\n",
    "\\begin{align}\n",
    "     \\frac{ \\hat \\beta_{0}}{\\sqrt{V(\\beta_{0})}} &\\sim \\mathcal{N}\\left(0,1 \\right)\n",
    "\\end{align}\n",
    "\n",
    "and we can compare to this null distribution the following observed test statistic\n",
    "\n",
    "\\begin{align}\n",
    "    \\frac{\\bar Y - \\hat \\beta_{1} \\bar x}{ \\sqrt{ \\hat V(\\beta_{0})} }\n",
    "\\end{align}\n",
    "\n",
    "\n",
    "For example, suppose we observed the following data"
   ]
  },
  {
   "cell_type": "code",
   "execution_count": 10,
   "metadata": {},
   "outputs": [
    {
     "name": "stderr",
     "output_type": "stream",
     "text": [
      "/usr/local/lib/python3.9/site-packages/seaborn/_decorators.py:36: FutureWarning: Pass the following variables as keyword args: x, y. From version 0.12, the only valid positional argument will be `data`, and passing other arguments without an explicit keyword will result in an error or misinterpretation.\n",
      "  warnings.warn(\n"
     ]
    },
    {
     "data": {
      "text/plain": [
       "<matplotlib.lines.Line2D at 0x1c0026bb0>"
      ]
     },
     "execution_count": 10,
     "metadata": {},
     "output_type": "execute_result"
    },
    {
     "data": {
      "image/png": "[encoded data removed]",
      "text/plain": [
       "<Figure size 432x288 with 1 Axes>"
      ]
     },
     "metadata": {
      "needs_background": "light"
     },
     "output_type": "display_data"
    }
   ],
   "source": [
    "import numpy as np \n",
    "x = np.random.normal(0,2,100)\n",
    "e = np.random.normal(0,4,100)\n",
    "y = 10+ 4*x + e\n",
    "\n",
    "fig,ax = plt.subplots()\n",
    "sns.scatterplot(x,y,ax=ax)\n",
    "ax.set(xlabel=\"X\",ylabel=\"Y\")\n",
    "\n",
    "ax.axhline(0)\n",
    "ax.axvline(0)"
   ]
  },
  {
   "cell_type": "markdown",
   "metadata": {},
   "source": [
    "If we can compute the above observed test statistic, we would find it equals"
   ]
  },
  {
   "cell_type": "code",
   "execution_count": 24,
   "metadata": {},
   "outputs": [
    {
     "name": "stdout",
     "output_type": "stream",
     "text": [
      "MLE for Beta 1 is 3.98\n",
      "MLE for Beta 0 is 9.34\n",
      "MLE for sigma2 is 15.40\n",
      "MLE for V(b0) is 0.15\n",
      "MLE for square root of V(b0) is 0.39\n",
      "Test statistic (W) is 23.75\n"
     ]
    }
   ],
   "source": [
    "avgy = np.mean(y)\n",
    "avgx = np.mean(x)\n",
    "N = len(y)\n",
    "\n",
    "mlebeta1 = sum((y-avgy)*(x-avgx))/sum((x-avgx)**2)\n",
    "print(\"MLE for Beta 1 is {:.2f}\".format(mlebeta1))\n",
    "\n",
    "mleBeta0 = avgy - mlebeta1*avgx\n",
    "print(\"MLE for Beta 0 is {:.2f}\".format(mleBeta0))\n",
    "\n",
    "mlesigma2 = np.mean( (y - (mleBeta0+mlebeta1*x))**2 )\n",
    "print(\"MLE for sigma2 is {:.2f}\".format(mlesigma2))\n",
    "\n",
    "mleV = mlesigma2*((1/N) + (avgx**2)/sum((x-avgx)**2))\n",
    "print(\"MLE for V(b0) is {:.2f}\".format(mleV))\n",
    "\n",
    "print(\"MLE for square root of V(b0) is {:.2f}\".format(mleV**0.5))\n",
    "\n",
    "W = mleBeta0/np.sqrt(mleV)\n",
    "print(\"Test statistic (W) is {:.2f}\".format(W))"
   ]
  },
  {
   "cell_type": "markdown",
   "metadata": {},
   "source": [
    "And we can form our statistic W and compare this statistic to a standard normal distribution"
   ]
  },
  {
   "cell_type": "code",
   "execution_count": 26,
   "metadata": {},
   "outputs": [
    {
     "data": {
      "text/plain": [
       "<matplotlib.legend.Legend at 0x1c42c3130>"
      ]
     },
     "execution_count": 26,
     "metadata": {},
     "output_type": "execute_result"
    },
    {
     "data": {
      "image/png": "[encoded data removed]",
      "text/plain": [
       "<Figure size 432x288 with 1 Axes>"
      ]
     },
     "metadata": {
      "needs_background": "light"
     },
     "output_type": "display_data"
    }
   ],
   "source": [
    "import scipy.stats\n",
    "\n",
    "dom = np.linspace(-25,25,10**3)\n",
    "standardnormpdf = scipy.stats.norm(0,1).pdf\n",
    "\n",
    "fig,ax = plt.subplots()\n",
    "ax.plot(dom,standardnormpdf(dom),label = \"Null Distribution N(0,1)\")\n",
    "\n",
    "ax.axvline(W,color=\"red\",label=\"Our Test stat W\")\n",
    "\n",
    "ax.legend()"
   ]
  },
  {
   "cell_type": "markdown",
   "metadata": {},
   "source": [
    "Whoa, if the null hypothesis was true our test statistic W would be **incredably** unlikely. \n",
    "It must be that the null hypothesis is false.\n",
    "But what are the chances that we are wrong to reject the null hypothesis? \n",
    "We can compute the probability that the null distribution would generate our test stat $W$ or value more extreme and use this probablity as measure of the probability that the null hypothesis is true and the null distribution generated  our test stat $W$. \n",
    "\n",
    "We want to compute $p( [Z > W] \\cup p(Z < -W) ) = p( Z > W ) + p(Z < -W)$, and because the Normal distribution is symmetric $ p( Z > W ) + p(Z < -W) = 2*p( Z > W )$. This is the **pvalue**.\n",
    "\n",
    "Small pvalues indicate that the probability that the null distribution generated our test statistic, or test statistic more extreme than what we observed, is small indicating the null hypothesis is likely false. Large pvalues suggest it is likely the null distribution generated our test stat, providing no evidence that our null hypothesis is false."
   ]
  },
  {
   "cell_type": "code",
   "execution_count": 28,
   "metadata": {},
   "outputs": [
    {
     "name": "stdout",
     "output_type": "stream",
     "text": [
      "MLE for Beta 1 is 3.81\n",
      "MLE for Beta 0 is 0.29\n",
      "MLE for sigma2 is 16.04\n",
      "MLE for V(b0) is 0.16\n",
      "MLE for square root of V(b0) is 0.40\n",
      "Test statistic (W) is 0.73\n"
     ]
    },
    {
     "name": "stderr",
     "output_type": "stream",
     "text": [
      "/usr/local/lib/python3.9/site-packages/seaborn/_decorators.py:36: FutureWarning: Pass the following variables as keyword args: x, y. From version 0.12, the only valid positional argument will be `data`, and passing other arguments without an explicit keyword will result in an error or misinterpretation.\n",
      "  warnings.warn(\n"
     ]
    },
    {
     "data": {
      "text/plain": [
       "<matplotlib.legend.Legend at 0x1c4345880>"
      ]
     },
     "execution_count": 28,
     "metadata": {},
     "output_type": "execute_result"
    },
    {
     "data": {
      "image/png": "[encoded data removed]",
      "text/plain": [
       "<Figure size 432x288 with 1 Axes>"
      ]
     },
     "metadata": {
      "needs_background": "light"
     },
     "output_type": "display_data"
    },
    {
     "data": {
      "image/png": "[encoded data removed]",
      "text/plain": [
       "<Figure size 432x288 with 1 Axes>"
      ]
     },
     "metadata": {
      "needs_background": "light"
     },
     "output_type": "display_data"
    }
   ],
   "source": [
    "import numpy as np \n",
    "x = np.random.normal(0,2,100)\n",
    "e = np.random.normal(0,4,100)\n",
    "y = 0 + 4*x + e\n",
    "\n",
    "fig,ax = plt.subplots()\n",
    "sns.scatterplot(x,y,ax=ax)\n",
    "ax.set(xlabel=\"X\",ylabel=\"Y\")\n",
    "\n",
    "ax.axhline(0)\n",
    "ax.axvline(0)\n",
    "\n",
    "\n",
    "avgy = np.mean(y)\n",
    "avgx = np.mean(x)\n",
    "N = len(y)\n",
    "\n",
    "mlebeta1 = sum((y-avgy)*(x-avgx))/sum((x-avgx)**2)\n",
    "print(\"MLE for Beta 1 is {:.2f}\".format(mlebeta1))\n",
    "\n",
    "mleBeta0 = avgy - mlebeta1*avgx\n",
    "print(\"MLE for Beta 0 is {:.2f}\".format(mleBeta0))\n",
    "\n",
    "mlesigma2 = np.mean( (y - (mleBeta0+mlebeta1*x))**2 )\n",
    "print(\"MLE for sigma2 is {:.2f}\".format(mlesigma2))\n",
    "\n",
    "mleV = mlesigma2*((1/N) + (avgx**2)/sum((x-avgx)**2))\n",
    "print(\"MLE for V(b0) is {:.2f}\".format(mleV))\n",
    "\n",
    "print(\"MLE for square root of V(b0) is {:.2f}\".format(mleV**0.5))\n",
    "\n",
    "W = mleBeta0/np.sqrt(mleV)\n",
    "print(\"Test statistic (W) is {:.2f}\".format(W))\n",
    "\n",
    "import scipy.stats\n",
    "\n",
    "dom = np.linspace(-5,5,10**3)\n",
    "standardnormpdf = scipy.stats.norm(0,1).pdf\n",
    "\n",
    "fig,ax = plt.subplots()\n",
    "ax.plot(dom,standardnormpdf(dom),label = \"Null Distribution N(0,1)\")\n",
    "\n",
    "ax.axvline(W,color=\"red\",label=\"Our Test stat W\")\n",
    "\n",
    "ax.legend()"
   ]
  }
 ],
 "metadata": {
  "kernelspec": {
   "display_name": "Python 3",
   "language": "python",
   "name": "python3"
  },
  "language_info": {
   "codemirror_mode": {
    "name": "ipython",
    "version": 3
   },
   "file_extension": ".py",
   "mimetype": "text/x-python",
   "name": "python",
   "nbconvert_exporter": "python",
   "pygments_lexer": "ipython3",
   "version": "3.9.5"
  }
 },
 "nbformat": 4,
 "nbformat_minor": 4
}
